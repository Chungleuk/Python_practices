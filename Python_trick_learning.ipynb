{
 "cells": [
  {
   "cell_type": "code",
   "execution_count": 3,
   "metadata": {},
   "outputs": [],
   "source": [
    "def apply_discount(product, discount):\n",
    "    price = int(product['price'] * (1.0 - discount))\n",
    "    assert 0 <= price <= product['price']\n",
    "    return price\n",
    "\n",
    "shoes = {'name': 'Fancy Shoes', 'price': 14900}"
   ]
  },
  {
   "cell_type": "code",
   "execution_count": 4,
   "metadata": {},
   "outputs": [
    {
     "data": {
      "text/plain": [
       "11175"
      ]
     },
     "execution_count": 4,
     "metadata": {},
     "output_type": "execute_result"
    }
   ],
   "source": [
    "apply_discount(shoes, 0.25)\n"
   ]
  },
  {
   "cell_type": "code",
   "execution_count": 6,
   "metadata": {},
   "outputs": [
    {
     "ename": "AssertionError",
     "evalue": "",
     "output_type": "error",
     "traceback": [
      "\u001b[1;31m---------------------------------------------------------------------------\u001b[0m",
      "\u001b[1;31mAssertionError\u001b[0m                            Traceback (most recent call last)",
      "\u001b[1;32m<ipython-input-6-e53e95c2a957>\u001b[0m in \u001b[0;36m<module>\u001b[1;34m()\u001b[0m\n\u001b[1;32m----> 1\u001b[1;33m \u001b[0mapply_discount\u001b[0m\u001b[1;33m(\u001b[0m\u001b[0mshoes\u001b[0m\u001b[1;33m,\u001b[0m \u001b[1;36m2.0\u001b[0m\u001b[1;33m)\u001b[0m\u001b[1;33m\u001b[0m\u001b[0m\n\u001b[0m",
      "\u001b[1;32m<ipython-input-3-ab78b86ab78f>\u001b[0m in \u001b[0;36mapply_discount\u001b[1;34m(product, discount)\u001b[0m\n\u001b[0;32m      1\u001b[0m \u001b[1;32mdef\u001b[0m \u001b[0mapply_discount\u001b[0m\u001b[1;33m(\u001b[0m\u001b[0mproduct\u001b[0m\u001b[1;33m,\u001b[0m \u001b[0mdiscount\u001b[0m\u001b[1;33m)\u001b[0m\u001b[1;33m:\u001b[0m\u001b[1;33m\u001b[0m\u001b[0m\n\u001b[0;32m      2\u001b[0m     \u001b[0mprice\u001b[0m \u001b[1;33m=\u001b[0m \u001b[0mint\u001b[0m\u001b[1;33m(\u001b[0m\u001b[0mproduct\u001b[0m\u001b[1;33m[\u001b[0m\u001b[1;34m'price'\u001b[0m\u001b[1;33m]\u001b[0m \u001b[1;33m*\u001b[0m \u001b[1;33m(\u001b[0m\u001b[1;36m1.0\u001b[0m \u001b[1;33m-\u001b[0m \u001b[0mdiscount\u001b[0m\u001b[1;33m)\u001b[0m\u001b[1;33m)\u001b[0m\u001b[1;33m\u001b[0m\u001b[0m\n\u001b[1;32m----> 3\u001b[1;33m     \u001b[1;32massert\u001b[0m \u001b[1;36m0\u001b[0m \u001b[1;33m<=\u001b[0m \u001b[0mprice\u001b[0m \u001b[1;33m<=\u001b[0m \u001b[0mproduct\u001b[0m\u001b[1;33m[\u001b[0m\u001b[1;34m'price'\u001b[0m\u001b[1;33m]\u001b[0m\u001b[1;33m\u001b[0m\u001b[0m\n\u001b[0m\u001b[0;32m      4\u001b[0m     \u001b[1;32mreturn\u001b[0m \u001b[0mprice\u001b[0m\u001b[1;33m\u001b[0m\u001b[0m\n\u001b[0;32m      5\u001b[0m \u001b[1;33m\u001b[0m\u001b[0m\n",
      "\u001b[1;31mAssertionError\u001b[0m: "
     ]
    }
   ],
   "source": [
    "apply_discount(shoes, 2.0)\n",
    "#AssertionError is used for  internal self-checks"
   ]
  },
  {
   "cell_type": "markdown",
   "metadata": {},
   "source": [
    "Resource from :https://hackernoon.com/python-tricks-101-2836251922e0"
   ]
  },
  {
   "cell_type": "code",
   "execution_count": 1,
   "metadata": {},
   "outputs": [
    {
     "name": "stdout",
     "output_type": "stream",
     "text": [
      "5 10\n",
      "10 5\n"
     ]
    }
   ],
   "source": [
    "#Swapping values\n",
    "'''pythonic way of value swapping'''\n",
    "a, b, = 5, 10\n",
    "print(a,b)\n",
    "a, b = b, a\n",
    "print(a,b)"
   ]
  },
  {
   "cell_type": "code",
   "execution_count": 4,
   "metadata": {},
   "outputs": [
    {
     "name": "stdout",
     "output_type": "stream",
     "text": [
      "['I', 'Love', 'Python']\n",
      "I Love Python\n"
     ]
    }
   ],
   "source": [
    "'''Create a single string from all the elements in list'''\n",
    "a = [\"I\", \"Love\",\"Python\"]\n",
    "print(a)\n",
    "print(\" \".join(a))"
   ]
  },
  {
   "cell_type": "code",
   "execution_count": 6,
   "metadata": {},
   "outputs": [
    {
     "name": "stdout",
     "output_type": "stream",
     "text": [
      "2\n",
      "[(2, 4)]\n"
     ]
    }
   ],
   "source": [
    "'''Find the most frequent value in a list'''\n",
    "a = [1,2 ,3, 1,2,3,2,4,6,2,4,9,11,12,1]\n",
    "print(max(set(a),key = a.count))\n",
    "'''using Counter from collections'''\n",
    "\n",
    "from collections import Counter\n",
    "cnt = Counter(a)\n",
    "print(cnt.most_common(1))\n"
   ]
  },
  {
   "cell_type": "code",
   "execution_count": 9,
   "metadata": {},
   "outputs": [
    {
     "name": "stdout",
     "output_type": "stream",
     "text": [
      "tsrqponmlkjihgfedcba\n",
      "t\n",
      "s\n",
      "r\n",
      "q\n",
      "p\n",
      "o\n",
      "n\n",
      "m\n",
      "l\n",
      "k\n",
      "j\n",
      "i\n",
      "h\n",
      "g\n",
      "f\n",
      "e\n",
      "d\n",
      "c\n",
      "b\n",
      "a\n",
      "987654321\n"
     ]
    }
   ],
   "source": [
    "'''reversing string with special case of slice step param'''\n",
    "\n",
    "a = 'abcdefghijklmnopqrst'\n",
    "print(a[::-1])\n",
    "\n",
    "'''iterating over string contents in reverse efficiently'''\n",
    "\n",
    "for char in reversed(a):\n",
    "    print(char)\n",
    "    \n",
    "'''reversing an integer through type conversion and slicing.'''\n",
    "\n",
    "num = 123456789\n",
    "print(int(str(num)[::-1]))"
   ]
  },
  {
   "cell_type": "code",
   "execution_count": 14,
   "metadata": {},
   "outputs": [
    {
     "name": "stdout",
     "output_type": "stream",
     "text": [
      "[['a', 'b'], ['c', 'd'], ['e', 'f']]\n",
      "[('a', 'c', 'e'), ('b', 'd', 'f')]\n"
     ]
    }
   ],
   "source": [
    "'''transpose 2d array[[a,b],[c,d][e,f]] -> [[a,c,e],[b,d,f]]'''\n",
    "\n",
    "original = [['a','b'],['c','d'],['e','f']]\n",
    "print(original)\n",
    "transposed = zip(*original)\n",
    "print(list(transposed))"
   ]
  },
  {
   "cell_type": "code",
   "execution_count": 17,
   "metadata": {},
   "outputs": [
    {
     "name": "stdout",
     "output_type": "stream",
     "text": [
      "True\n",
      "False\n"
     ]
    }
   ],
   "source": [
    "'''chained comparision with all kind of operators'''\n",
    "b = 6\n",
    "print(4 < b < 7)\n",
    "print(1 == b < 20)"
   ]
  },
  {
   "cell_type": "code",
   "execution_count": 19,
   "metadata": {},
   "outputs": [
    {
     "name": "stdout",
     "output_type": "stream",
     "text": [
      "12\n"
     ]
    }
   ],
   "source": [
    "'''calling different functions with same arguments based on condition'''\n",
    "def product(a,b):\n",
    "    return a * b\n",
    "def add(a,b):\n",
    "    return a + b \n",
    "\n",
    "b = False\n",
    "print((product if b else add)(5,7))"
   ]
  },
  {
   "cell_type": "code",
   "execution_count": 23,
   "metadata": {},
   "outputs": [
    {
     "name": "stdout",
     "output_type": "stream",
     "text": [
      "[1, 2, 3, 4, 5]\n",
      "[1, 2, 3, 4, 5]\n",
      "[[1, 2], [3, 4]]\n"
     ]
    }
   ],
   "source": [
    "'''a fast way to make a shallow copy of a list'''\n",
    "a = [1,2,3,4,5]\n",
    "\n",
    "b = a\n",
    "b[0] = 10\n",
    "\n",
    "'''both a and b will be [10,2,3,4,5]'''\n",
    "\n",
    "b = a[:]\n",
    "b[0]= 10\n",
    "'''only b will change to [10,2,3,4,5]'''\n",
    "\n",
    "'''copy list by typecasting method'''\n",
    "a = [1,2,3,4,5]\n",
    "print(list(a))\n",
    "\n",
    "'''using the list.copy() method'''\n",
    "\n",
    "print(a.copy())\n",
    "\n",
    "'''copy nested lists using copy.deepcopy'''\n",
    "\n",
    "from copy import deepcopy\n",
    "l = [[1,2],[3,4]]\n",
    "l2 = deepcopy(l)\n",
    "print(l2)"
   ]
  },
  {
   "cell_type": "code",
   "execution_count": 27,
   "metadata": {},
   "outputs": [
    {
     "name": "stdout",
     "output_type": "stream",
     "text": [
      "None\n",
      "5\n",
      "2\n"
     ]
    }
   ],
   "source": [
    "'''returning None or default value, when key is not in dict'''\n",
    "d = {'a':1, 'b':2}\n",
    "print(d.get('c'))\n",
    "print(d.get('c',5))\n",
    "print(d.get('b'))"
   ]
  },
  {
   "cell_type": "code",
   "execution_count": 33,
   "metadata": {},
   "outputs": [
    {
     "name": "stdout",
     "output_type": "stream",
     "text": [
      "[('rotten tomato', 1), ('banana', 5), ('apple', 10), ('orange', 20)]\n",
      "[('rotten tomato', 1), ('banana', 5), ('apple', 10), ('orange', 20)]\n",
      "['rotten tomato', 'banana', 'apple', 'orange']\n"
     ]
    }
   ],
   "source": [
    "'''Sort a dictionary by its values with the build-in sorted()function and a 'key' argument'''\n",
    "d = {'apple': 10, 'orange':20, 'banana':5, 'rotten tomato':1}\n",
    "print(sorted(d.items(),key = lambda x: x[1]))\n",
    "\n",
    "'''Sorinting using operator.itemgetter as the sort key instead of a lambda'''\n",
    "from operator import itemgetter\n",
    "\n",
    "print(sorted(d.items(),key=itemgetter(1)))\n",
    "\n",
    "'''Sort dict keys by value'''\n",
    "print(sorted(d,key=d.get))"
   ]
  },
  {
   "cell_type": "code",
   "execution_count": 35,
   "metadata": {},
   "outputs": [
    {
     "name": "stdout",
     "output_type": "stream",
     "text": [
      "2,3,5,10\n",
      "2,hello,3,3.4\n"
     ]
    }
   ],
   "source": [
    "'''Converts list to comma separated string'''\n",
    "\n",
    "items = ['foo','bar','xyz']\n",
    "\n",
    "'''list of numbers to comma separated'''\n",
    "numbers = [2,3,5,10]\n",
    "#map(function, iterables)\n",
    "print(','.join(map(str,numbers)))\n",
    "\n",
    "'''list of mix data'''\n",
    "data  = [2,'hello',3,3.4]\n",
    "print(','.join(map(str,data)))"
   ]
  },
  {
   "cell_type": "code",
   "execution_count": 39,
   "metadata": {},
   "outputs": [
    {
     "name": "stdout",
     "output_type": "stream",
     "text": [
      "{'a': 1, 'b': 2, 'c': 3, 'd': 4}\n",
      "{'b': 2, 'c': 3, 'd': 4, 'a': 1}\n",
      "{'a': 1, 'b': 2, 'c': 3, 'd': 4}\n"
     ]
    }
   ],
   "source": [
    "'''Merge dict'''\n",
    "\n",
    "d1 = {'a': 1,'b':2}\n",
    "d2 = {'c': 3,'d':4}\n",
    "\n",
    "print({**d1, **d2})\n",
    "\n",
    "\n",
    "print(dict(d1.items()|d2.items()))\n",
    "d1.update(d2)\n",
    "print(d1)"
   ]
  },
  {
   "cell_type": "code",
   "execution_count": null,
   "metadata": {},
   "outputs": [],
   "source": []
  },
  {
   "cell_type": "code",
   "execution_count": 47,
   "metadata": {},
   "outputs": [
    {
     "name": "stdout",
     "output_type": "stream",
     "text": [
      "1\n",
      "8\n",
      "81\n"
     ]
    }
   ],
   "source": [
    "'''Find Index of Min/Max Element.'''\n",
    "List =[40,10,20,30,50,60,70,80,81]\n",
    "\n",
    "def minIndex(List):\n",
    "    return min(range(len(List)),key=List.__getitem__)\n",
    "\n",
    "def maxIndex(List):\n",
    "    return max(range(len(List)),key=List.__getitem__)\n",
    "print(minIndex(List))\n",
    "print(maxIndex(List))\n",
    "print(List[8])"
   ]
  },
  {
   "cell_type": "code",
   "execution_count": 51,
   "metadata": {},
   "outputs": [
    {
     "name": "stdout",
     "output_type": "stream",
     "text": [
      "[1, 2, 3, 4]\n",
      "['foo', 'bar']\n",
      "[2, 3, 1, 4]\n"
     ]
    }
   ],
   "source": [
    "'''remove duplicate items from list. note:does not preserve the original list order'''\n",
    "\n",
    "items = [2,2,3,3,1,2,4]\n",
    "\n",
    "newitems2 = list(set(items))\n",
    "print(newitems2)\n",
    "\n",
    "'''remove dups and keep order'''\n",
    "from collections import OrderedDict\n",
    "items2 = ['foo','bar','bar','foo']\n",
    "print(list(OrderedDict.fromkeys(items2).keys()))\n",
    "print(list(OrderedDict.fromkeys(items).keys()))"
   ]
  },
  {
   "cell_type": "code",
   "execution_count": 2,
   "metadata": {},
   "outputs": [
    {
     "name": "stdout",
     "output_type": "stream",
     "text": [
      "0:a\n",
      "1:b\n",
      "2:c\n",
      "3:d\n"
     ]
    }
   ],
   "source": [
    "m =['a','b','c','d']\n",
    "for index, value in enumerate(m):\n",
    "    print('{0}:{1}'.format(index,value))"
   ]
  },
  {
   "cell_type": "code",
   "execution_count": 4,
   "metadata": {},
   "outputs": [
    {
     "name": "stdout",
     "output_type": "stream",
     "text": [
      "set()\n"
     ]
    }
   ],
   "source": [
    "'''initialization '''\n",
    "a_list = list()\n",
    "a_dict = dict()\n",
    "a_set = set()\n",
    "print(a_set)"
   ]
  },
  {
   "cell_type": "code",
   "execution_count": 12,
   "metadata": {},
   "outputs": [
    {
     "name": "stdout",
     "output_type": "stream",
     "text": [
      "Python\n",
      "Python\n"
     ]
    }
   ],
   "source": [
    "name = \" Python \"\n",
    "name2 = \"Python///&\"\n",
    "\n",
    "print(name.strip())\n",
    "print(name2.strip(\"/&\"))\n"
   ]
  },
  {
   "cell_type": "code",
   "execution_count": 14,
   "metadata": {},
   "outputs": [
    {
     "ename": "ModuleNotFoundError",
     "evalue": "No module named 'dicttoxml'",
     "output_type": "error",
     "traceback": [
      "\u001b[1;31m---------------------------------------------------------------------------\u001b[0m",
      "\u001b[1;31mModuleNotFoundError\u001b[0m                       Traceback (most recent call last)",
      "\u001b[1;32m<ipython-input-14-b8d4e68a4d53>\u001b[0m in \u001b[0;36m<module>\u001b[1;34m()\u001b[0m\n\u001b[0;32m      1\u001b[0m \u001b[1;34m'''trun dict to xml '''\u001b[0m\u001b[1;33m\u001b[0m\u001b[0m\n\u001b[0;32m      2\u001b[0m \u001b[0md\u001b[0m \u001b[1;33m=\u001b[0m \u001b[1;33m{\u001b[0m\u001b[1;34m'apple'\u001b[0m\u001b[1;33m:\u001b[0m \u001b[1;36m10\u001b[0m\u001b[1;33m,\u001b[0m \u001b[1;34m'orange'\u001b[0m\u001b[1;33m:\u001b[0m\u001b[1;36m20\u001b[0m\u001b[1;33m,\u001b[0m \u001b[1;34m'banana'\u001b[0m\u001b[1;33m:\u001b[0m\u001b[1;36m5\u001b[0m\u001b[1;33m,\u001b[0m \u001b[1;34m'rotten tomato'\u001b[0m\u001b[1;33m:\u001b[0m\u001b[1;36m1\u001b[0m\u001b[1;33m}\u001b[0m\u001b[1;33m\u001b[0m\u001b[0m\n\u001b[1;32m----> 3\u001b[1;33m \u001b[1;32mfrom\u001b[0m \u001b[0mdicttoxml\u001b[0m \u001b[1;32mimport\u001b[0m \u001b[0mdicttoxml\u001b[0m\u001b[1;33m\u001b[0m\u001b[0m\n\u001b[0m\u001b[0;32m      4\u001b[0m \u001b[0mxml\u001b[0m \u001b[1;33m=\u001b[0m \u001b[0mdicttoxml\u001b[0m\u001b[1;33m(\u001b[0m\u001b[0md\u001b[0m\u001b[1;33m,\u001b[0m \u001b[0mcustom_root\u001b[0m\u001b[1;33m=\u001b[0m\u001b[1;34m'test'\u001b[0m\u001b[1;33m,\u001b[0m\u001b[0mattr_type\u001b[0m\u001b[1;33m=\u001b[0m\u001b[1;32mFalse\u001b[0m\u001b[1;33m)\u001b[0m\u001b[1;33m\u001b[0m\u001b[0m\n\u001b[0;32m      5\u001b[0m \u001b[0mprint\u001b[0m\u001b[1;33m(\u001b[0m\u001b[0mxml\u001b[0m\u001b[1;33m)\u001b[0m\u001b[1;33m\u001b[0m\u001b[0m\n",
      "\u001b[1;31mModuleNotFoundError\u001b[0m: No module named 'dicttoxml'"
     ]
    }
   ],
   "source": [
    "'''trun dict to xml '''\n",
    "d = {'apple': 10, 'orange':20, 'banana':5, 'rotten tomato':1}\n",
    "from dicttoxml import dicttoxml\n",
    "xml = dicttoxml(d, custom_root='test',attr_type=False)\n",
    "print(xml)"
   ]
  }
 ],
 "metadata": {
  "kernelspec": {
   "display_name": "Python 3",
   "language": "python",
   "name": "python3"
  },
  "language_info": {
   "codemirror_mode": {
    "name": "ipython",
    "version": 3
   },
   "file_extension": ".py",
   "mimetype": "text/x-python",
   "name": "python",
   "nbconvert_exporter": "python",
   "pygments_lexer": "ipython3",
   "version": "3.6.4"
  }
 },
 "nbformat": 4,
 "nbformat_minor": 2
}
