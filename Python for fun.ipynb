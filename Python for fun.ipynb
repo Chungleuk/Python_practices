{
 "cells": [
  {
   "cell_type": "code",
   "execution_count": 1,
   "metadata": {},
   "outputs": [
    {
     "name": "stdout",
     "output_type": "stream",
     "text": [
      "╱╱╱╱╲╱╲╲╱╱╲╲╲╲╲╲╱╲╲╱╲╲╱╲╲╲╲╱╱╱╲╱╱╱╲╲╲╲╲╱╱╲╲╱╲╲╱╱╱╱╲╲╱╱╲╱╱╱╲╱╱╱╱╱╲╱╱╲╲╲╱╱╱╲╲╱╲╱╱╱╱╲╱╲╲╲╱╱╲╱╲╱╲╱╱╱╱╱╱╱╲╲╲╱╲╱╱╱╲╲╱╱╲╲╲╲╱╲╲╱╲╲╱╲╲╲╲╱╲╲╱╲╱╲╲╲╲╲╲╲╲╱╲╲╱╱╱╲╲╲╱╱╱╲╱╱╱╱╲╱╲╲╲╱╲╲╲╲╲╱╲╱╲╲╲╱╲╲╲╲╱╱╱╲╱╲╱╲╱╱╱╲╱╲╱╱╱╲╱╱╱╲╲╲╲╱╱╲╱╲╱╲╱╱╲╲╲╱╲╲╲╱╱╱╲╱╲╱╱╲╲╱╲╲╱╲╱╱╱╲╱╲╲╲╲╱╱╲╱╱╲╱╱╲╲╲╲╲╲╱╱╲╱╲╱╱╲╱╲╲╲╲╲╱╱╱╲╲╲╲╱╱╱╱╲╱╱╲╲╱╲╱╱╱╲╲╱╲╱╲╱╱╲╱╱╲╱╲╱╲╲╱╲╱╱╱╱╱╱╱╲╱╲╲╱╱╲╲╲╲╱╱╱╲╲╱╲╱╱╲╱╱╱╱╱╱╱╲╱╲╱╱╲╲╲╱╲╱╲╱╱╲╲╱╱╱╱╱╲╲╱╲╲╱╱╱╱╱╱╲╱╲╲╲╱╱╲╲╱╲╲╱╲╲╲╱╲╲╱╲╲╲╲╲╲╱╱╱╲╱╲╲╱╱╱╱╱╲╲╱╲╲╱╲╲╱╱╱╲╱╲╲╲╲╲╲╱╱╲╲╲╱╲╱╲╲╲╱╲╱╲╲╱╲╲╱╱╱╱╲╱╱╱╲╲╱╲╲╱╱╲╱╱╱╲╲╲╲╲╲╲╱╲╲╱╲╲╱╲╲╲╱╲╱╲╱╲╲╲╱╱╲╲╱╲╲╱╱╲╱╱╱╱╲╱╲╲╲╱╱╱╱╱╱╲╲╱╲╲╲╲╲╲╲╲╱╱╱╲╲╱╲╱╲╱╱╱╲╲╲╱╱╱╲╲╱╲╱╲╱╲╱╲╲╱╱╲╲╲╱╲╱╱╲╲╱╲╲╱╱╱╱╱╱╱╱╱╲╲╱╲╲╲╱╱╱╲╲╱╲╲╱╲╲╱╱╲╱╱╲╲╲╲╲╱╲╱╲╱╱╲╲╲╲╱╲╲╱╲╲╱╱╱╱╱╲╱╱╲╱╱╱╲╱╲╲╱╲╱╱╱╱╱╱╲╲╲╲╱╱╲╱╲╲╲╲╲╲╱╲╲╲╲╲╲╲╲╱╱╱╲╱╲╲╱╲╲╱╱╲╱╱╲╲╲╱╱╲╲╲╲╲╲╱╱╲╱╲╲╲╱╲╱╱╱╲╱╲╲╲╱╱╲╱╱╲╱╲╱╲╲╱╱╱╱╲╱╱╱╲╲╲╱╱╱╱╱╱╲╱╱╲╱╲╱╲╱╲╲╱╲╲╱╲╱╱╲╱╱╱╱╱╱╲╲╱╱╱╱╱╱╱╱╲╲╲╱╲╱╱╲╲╱╲╱╱╲╱╲╱╲╱╲╱╲╱╲╱╱╱╲╲╱╱╱╲╲╲╱╲╲╱╱╱╲╲╲╲╲╱╱╱╲╲╲╲╱╲╲╱╲╲╲╲╲╱╱╱╲╲╲╲╲╲╱╲╱╲╱╱╲╲╱╲╱╲╱╲╱╱╲╱╲╲╱╱╲╲╲╲╲╲╲╱╲╱╲╱╱╱╱╲╱╱╲╱╲╲╲╱╱╱╲╱╲╲╱╲╱╱╱╱╱╲╱╲╲╲╱╱╱╱╲╲╱╱╱╲╲╱╲╱╲╲╱╲╱╱╱╲╱╱╲╲╲╱╱╲╱╱╲╱╲╱╲╱╲╱╱╱╲╱╲╲╱╱╱╲╲╲╱╱╲╱╱╲╲╱╲╲╲╲╲╱╲╲╱╱╱╲╲╲╲╲╲╱╱╲╲╱╱╱╲╱╲╱╲╲╱╱╱╲╲╱╲╲╲╲╲╱╲╱╲╱╱╲╱╲╱╱╱╱╱╲╱╱╱╲╲╱╱╲╱╱╲╲╲╲╱╲╱╱╲╲╱╲╲╲╲╱╲╱╲╲╲╱╲╲╲╱╲╲╲╲╱╲╱╱╲╱╱╲╱╲╱╲╲╲╲╲╱╲╱╱╱╱╲╲╲╱╱╲╱╲╱╱╱╱╱╲╱╱╱╱╱╱╲╲╱╲╲╲╱╲╲╲╲╱╱╲╲╲╲╲╲╱╱╱╲╱╲╲╱╲╲╲╱╱╱╱╲╲╲╱╱╲╲╱╲╱╱╱╲╱╲╲╲╱╱╲╱╲╱╲╲╲╲╱╱╱╱╲╲╱╱╲╲╱╲╱╲╲╱╱╲╱╱╱╲╲\n"
     ]
    }
   ],
   "source": [
    "#print a random maze\n",
    "#choice('\\u2571\\u2572') can be replace by '\\\\/'\n",
    "print(''.join(__import__('random').choice('\\u2571\\u2572')for i in range(50*24)))"
   ]
  },
  {
   "cell_type": "code",
   "execution_count": 2,
   "metadata": {},
   "outputs": [
    {
     "name": "stdout",
     "output_type": "stream",
     "text": [
      "                                                            \n",
      "                                                            \n",
      "                                                            \n",
      "                ouIloveYo           oveYouIlo               \n",
      "            veYouIloveYouIlov   uIloveYouIloveYou           \n",
      "          oveYouIloveYouIloveYouIloveYouIloveYouIlo         \n",
      "         oveYouIloveYouIloveYouIloveYouIloveYouIlove        \n",
      "        oveYouIloveYouIloveYouIloveYouIloveYouIloveYo       \n",
      "        veYouIloveYouIloveYouIloveYouIloveYouIloveYou       \n",
      "        eYouIloveYouIloveYouIloveYouIloveYouIloveYouI       \n",
      "        YouIloveYouIloveYouIloveYouIloveYouIloveYouIl       \n",
      "        ouIloveYouIloveYouIloveYouIloveYouIloveYouIlo       \n",
      "        uIloveYouIloveYouIloveYouIloveYouIloveYouIlov       \n",
      "         loveYouIloveYouIloveYouIloveYouIloveYouIlov        \n",
      "          veYouIloveYouIloveYouIloveYouIloveYouIlov         \n",
      "          eYouIloveYouIloveYouIloveYouIloveYouIlove         \n",
      "            uIloveYouIloveYouIloveYouIloveYouIlov           \n",
      "             loveYouIloveYouIloveYouIloveYouIlov            \n",
      "              veYouIloveYouIloveYouIloveYouIlov             \n",
      "                ouIloveYouIloveYouIloveYouIlo               \n",
      "                  loveYouIloveYouIloveYouIl                 \n",
      "                    eYouIloveYouIloveYouI                   \n",
      "                       IloveYouIloveYo                      \n",
      "                          eYouIlove                         \n",
      "                             Ilo                            \n",
      "                              o                             \n",
      "                                                            \n",
      "                                                            \n",
      "                                                            \n",
      "                                                            \n"
     ]
    }
   ],
   "source": [
    "#print a classic heart \n",
    "#the word inside the heart can be change\n",
    "word = 'IloveYou'\n",
    "print('\\n'.join([''.join([(word[(x-y)%len(word)] if ((x*0.05)**2+(y*0.1)**2-1)**3-(x*0.05)**2*(y*0.1)**3<=0 else' ')for x in range(-30,30)])for y in range(15, -15, -1)]))"
   ]
  },
  {
   "cell_type": "code",
   "execution_count": 3,
   "metadata": {},
   "outputs": [
    {
     "name": "stdout",
     "output_type": "stream",
     "text": [
      "1x1=1\t\n",
      "1x2=2\t2x2=4\t\n",
      "1x3=3\t2x3=6\t3x3=9\t\n",
      "1x4=4\t2x4=8\t3x4=12\t4x4=16\t\n",
      "1x5=5\t2x5=10\t3x5=15\t4x5=20\t5x5=25\t\n",
      "1x6=6\t2x6=12\t3x6=18\t4x6=24\t5x6=30\t6x6=36\t\n",
      "1x7=7\t2x7=14\t3x7=21\t4x7=28\t5x7=35\t6x7=42\t7x7=49\t\n",
      "1x8=8\t2x8=16\t3x8=24\t4x8=32\t5x8=40\t6x8=48\t7x8=56\t8x8=64\t\n",
      "1x9=9\t2x9=18\t3x9=27\t4x9=36\t5x9=45\t6x9=54\t7x9=63\t8x9=72\t9x9=81\t\n"
     ]
    }
   ],
   "source": [
    "print('\\n'.join([''.join(['{}x{}={}\\t'.format(y, x, x * y) for y in range(1, x + 1)]) for x in range(1, 10)]))"
   ]
  },
  {
   "cell_type": "code",
   "execution_count": 4,
   "metadata": {},
   "outputs": [
    {
     "name": "stdout",
     "output_type": "stream",
     "text": [
      "1x1=1\t\n",
      "1x2=2\t2x2=4\t\n",
      "1x3=3\t2x3=6\t3x3=9\t\n",
      "1x4=4\t2x4=8\t3x4=12\t4x4=16\t\n",
      "1x5=5\t2x5=10\t3x5=15\t4x5=20\t5x5=25\t\n",
      "1x6=6\t2x6=12\t3x6=18\t4x6=24\t5x6=30\t6x6=36\t\n",
      "1x7=7\t2x7=14\t3x7=21\t4x7=28\t5x7=35\t6x7=42\t7x7=49\t\n",
      "1x8=8\t2x8=16\t3x8=24\t4x8=32\t5x8=40\t6x8=48\t7x8=56\t8x8=64\t\n",
      "1x9=9\t2x9=18\t3x9=27\t4x9=36\t5x9=45\t6x9=54\t7x9=63\t8x9=72\t9x9=81\t\n"
     ]
    }
   ],
   "source": [
    "for y in range(1, 10):\n",
    "        for x in range(1, y+1):\n",
    "            print('{}x{}={}\\t'.format(x, y, x*y), end='')\n",
    "        print()"
   ]
  },
  {
   "cell_type": "code",
   "execution_count": 5,
   "metadata": {},
   "outputs": [
    {
     "name": "stdout",
     "output_type": "stream",
     "text": [
      "Enter a positive integer to guess: 4\n",
      "Too small ! Try again!\n",
      "Enter a positive integer to guess: 44\n",
      "Too big ! Try again!\n",
      "Enter a positive integer to guess: 42\n",
      "You win!\n"
     ]
    },
    {
     "data": {
      "text/plain": [
       "True"
      ]
     },
     "execution_count": 5,
     "metadata": {},
     "output_type": "execute_result"
    }
   ],
   "source": [
    "def guess_number(n):\n",
    "    while True:\n",
    "        user_input = input(\"Enter a positive integer to guess: \")\n",
    "        #check if the input is integer no.(exclude any string or Punctuation )\n",
    "        if len(user_input)==0 or not user_input.isdigit():\n",
    "            print (\"Not a positive integer!\")\n",
    "        else:\n",
    "            user_input = int(user_input)\n",
    "            if user_input > n:\n",
    "                print (\"Too big ! Try again!\")\n",
    "            elif user_input < n:\n",
    "                print (\"Too small ! Try again!\")\n",
    "            else:\n",
    "                print (\"You win!\")\n",
    "                return True\n",
    "guess_number(42)"
   ]
  },
  {
   "cell_type": "code",
   "execution_count": 7,
   "metadata": {},
   "outputs": [
    {
     "name": "stdout",
     "output_type": "stream",
     "text": [
      "Info: 184   76   24\n"
     ]
    }
   ],
   "source": [
    "from PIL import Image  \n",
    "import os  \n",
    "   \n",
    "serarr=['@','#','$','%','&','?','*','o','/','{','[','(','|','!','^','~','-','_',':',';',',','.','`',' ']  \n",
    "count=len(serarr)  \n",
    "   \n",
    "def toText(image_file):  \n",
    "   image_file=image_file.convert(\"L\")#convert gray \n",
    "   asd =''#save string \n",
    "   for h in range(0,  image_file.size[1]):#h  \n",
    "      for w in range(0, image_file.size[0]):#w  \n",
    "         gray =image_file.getpixel((w,h))  \n",
    "         asd=asd+serarr[int(gray/(255/(count-1)))]  \n",
    "      asd=asd+'\\r\\n'  \n",
    "   return asd  \n",
    "   \n",
    "def toText2(image_file):  \n",
    "   asd =''#save string \n",
    "   for h in range(0,  image_file.size[1]):#h  \n",
    "      for w in range(0, image_file.size[0]):#w  \n",
    "         r,g,b =image_file.getpixel((w,h))  \n",
    "         gray =int(r* 0.299+g* 0.587+b* 0.114)  \n",
    "         asd=asd+serarr[int(gray/(255/(count-1)))]  \n",
    "      asd=asd+'\\r\\n'  \n",
    "   return asd  \n",
    "   \n",
    "#image file name <---select an image file\n",
    "image_name = \"Koala.jpg\"\n",
    "image_file = Image.open(image_name) # open an image  \n",
    "image_file=image_file.resize((int(image_file.size[0]*0.18), int(image_file.size[1]*0.1)))#adjust the image size of txt\n",
    "   \n",
    "print(u'Info:',image_file.size[0],' ',image_file.size[1],' ',count)  \n",
    "\n",
    "#clear and save as a txt file\n",
    "try:  \n",
    "   os.remove('./tmp.txt')  \n",
    "except  WindowsError:  \n",
    "    pass  \n",
    "     \n",
    "tmp=open('tmp.txt','a')  \n",
    "   \n",
    "   \n",
    "tmp.write(toText2(image_file))  \n",
    "   \n",
    "tmp.close()  "
   ]
  }
 ],
 "metadata": {
  "kernelspec": {
   "display_name": "Python 3",
   "language": "python",
   "name": "python3"
  },
  "language_info": {
   "codemirror_mode": {
    "name": "ipython",
    "version": 3
   },
   "file_extension": ".py",
   "mimetype": "text/x-python",
   "name": "python",
   "nbconvert_exporter": "python",
   "pygments_lexer": "ipython3",
   "version": "3.6.4"
  }
 },
 "nbformat": 4,
 "nbformat_minor": 2
}
