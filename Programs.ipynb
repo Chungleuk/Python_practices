{
 "cells": [
  {
   "cell_type": "code",
   "execution_count": 1,
   "metadata": {},
   "outputs": [
    {
     "name": "stdout",
     "output_type": "stream",
     "text": [
      "Enter length of rectangle: 12\n",
      "Enter breadth of rectangle: 21\n",
      "Area of rectangle: 252\n",
      "\n"
     ]
    }
   ],
   "source": [
    "#Find the Area of a Rectangle Using Classes\n",
    "class rectangle():\n",
    "    def __init__(self,breadth,length):\n",
    "        self.breadth=breadth\n",
    "        self.length=length\n",
    "    def area(self):\n",
    "        return self.breadth*self.length\n",
    "a=int(input(\"Enter length of rectangle: \"))\n",
    "b=int(input(\"Enter breadth of rectangle: \"))\n",
    "obj=rectangle(a,b)\n",
    "print(\"Area of rectangle:\", obj.area())\n",
    "\n",
    "print()"
   ]
  },
  {
   "cell_type": "code",
   "execution_count": 2,
   "metadata": {},
   "outputs": [
    {
     "name": "stdout",
     "output_type": "stream",
     "text": [
      "Enter value of first variable: 11\n",
      "Enter value of second variable: 22\n",
      "a is: 22 b is: 11\n"
     ]
    }
   ],
   "source": [
    "#Exchange the Value of Two Numbers Without Using a Temporary Variable\n",
    "a=int(input(\"Enter value of first variable: \"))\n",
    "b=int(input(\"Enter value of second variable: \"))\n",
    "addup=a+b\n",
    "b=addup-b\n",
    "a=addup-a\n",
    "print(\"a is:\",a,\"b is:\",b)"
   ]
  },
  {
   "cell_type": "code",
   "execution_count": 3,
   "metadata": {},
   "outputs": [
    {
     "name": "stdout",
     "output_type": "stream",
     "text": [
      "Enter a number n: 5\n",
      "The value is: 615\n"
     ]
    }
   ],
   "source": [
    "#Read a Number n and Compute n+nn+nnn\n",
    "n=int(input(\"Enter a number n: \"))\n",
    "temp=str(n)\n",
    "t1=temp+temp\n",
    "t2=temp+temp+temp\n",
    "comp=n+int(t1)+int(t2)\n",
    "#if n=5, then 5+55+555=615\n",
    "print(\"The value is:\",comp)"
   ]
  },
  {
   "cell_type": "code",
   "execution_count": 4,
   "metadata": {},
   "outputs": [
    {
     "name": "stdout",
     "output_type": "stream",
     "text": [
      "Enter number: 123456\n",
      "Reverse of the number: 654321\n"
     ]
    }
   ],
   "source": [
    "#Reverse a Given Number\n",
    "n=int(input(\"Enter number: \"))\n",
    "rev=0\n",
    "while(n>0):\n",
    "    #dig is remainder\n",
    "    dig=n%10\n",
    "    rev=rev*10+dig\n",
    "    #Floor division \n",
    "    n=n//10\n",
    "print(\"Reverse of the number:\",rev)"
   ]
  },
  {
   "cell_type": "code",
   "execution_count": 5,
   "metadata": {},
   "outputs": [
    {
     "name": "stdout",
     "output_type": "stream",
     "text": [
      "Enter number: 12\n",
      "Number is positive\n"
     ]
    }
   ],
   "source": [
    "#Check Whether a Number is Positive or Negative\n",
    "n=int(input(\"Enter number: \"))\n",
    "if(n>0):\n",
    "    print(\"Number is positive\")\n",
    "else:\n",
    "    print(\"Number is negative\")"
   ]
  },
  {
   "cell_type": "code",
   "execution_count": 6,
   "metadata": {},
   "outputs": [
    {
     "name": "stdout",
     "output_type": "stream",
     "text": [
      "Enter the number of elements to be inserted: 5\n",
      "Enter element: 1\n",
      "Enter element: 2\n",
      "Enter element: 3\n",
      "Enter element: 4\n",
      "Enter element: 5\n",
      "Average of elements in the list 3.0\n"
     ]
    }
   ],
   "source": [
    "#Calculate the average of Numbers in a Given List\n",
    "n=int(input(\"Enter the number of elements to be inserted: \"))\n",
    "a=[]\n",
    "for i in range(0,n):\n",
    "    elem=int(input(\"Enter element: \"))\n",
    "    a.append(elem)\n",
    "avg=sum(a)/n\n",
    "print(\"Average of elements in the list\",round(avg,2))"
   ]
  },
  {
   "cell_type": "code",
   "execution_count": 9,
   "metadata": {},
   "outputs": [
    {
     "name": "stdout",
     "output_type": "stream",
     "text": [
      "Enter lower range limit: 1\n",
      "Enter lower range limit: 50\n",
      "Enter the number to be divided by:5\n",
      "5\n",
      "10\n",
      "15\n",
      "20\n",
      "25\n",
      "30\n",
      "35\n",
      "40\n",
      "45\n",
      "50\n"
     ]
    }
   ],
   "source": [
    "#Print all Numbers in a Range Divisible by a Given Number\n",
    "lower=int(input(\"Enter lower range limit: \"))\n",
    "upper=int(input(\"Enter lower range limit: \"))\n",
    "n=int(input(\"Enter the number to be divided by:\"))\n",
    "for i in range(lower,upper+1):\n",
    "    if(i%n==0):\n",
    "        print(i)"
   ]
  },
  {
   "cell_type": "code",
   "execution_count": 14,
   "metadata": {},
   "outputs": [
    {
     "name": "stdout",
     "output_type": "stream",
     "text": [
      "Enter the first number: 15\n",
      "Enter the second number: 2.3\n",
      "Quotient is: 6\n",
      "Remainder is: 1\n"
     ]
    }
   ],
   "source": [
    "#Read Two Numbers and Print their quotient and Remainder\n",
    "a=float(input(\"Enter the first number: \"))\n",
    "b=float(input(\"Enter the second number: \"))\n",
    "quotient=round(a//b)\n",
    "remainder=round(a%b)\n",
    "print(\"Quotient is:\",quotient)\n",
    "print(\"Remainder is:\",remainder)"
   ]
  },
  {
   "cell_type": "code",
   "execution_count": 1,
   "metadata": {},
   "outputs": [
    {
     "name": "stdout",
     "output_type": "stream",
     "text": [
      "Enter number:245\n",
      "The number isn't a palindrome!\n"
     ]
    }
   ],
   "source": [
    "#check if a Number is a Palindrome\n",
    "n=int(input(\"Enter number:\"))\n",
    "temp=n\n",
    "rev=0\n",
    "while(n>0):\n",
    "    dig=n%10\n",
    "    rev=rev*10+dig\n",
    "    n=n//10\n",
    "#i.e. 212 == 212, 123 != 321 \n",
    "if(temp==rev):\n",
    "    print(\"The number is a palindrome!\")\n",
    "else:\n",
    "    print(\"The number isn't a palindrome!\")"
   ]
  },
  {
   "cell_type": "code",
   "execution_count": 15,
   "metadata": {},
   "outputs": [
    {
     "name": "stdout",
     "output_type": "stream",
     "text": [
      "1\n",
      "5\n",
      "7\n",
      "11\n",
      "13\n",
      "17\n",
      "19\n",
      "23\n",
      "25\n",
      "29\n",
      "31\n",
      "35\n",
      "37\n",
      "41\n",
      "43\n",
      "47\n",
      "49\n"
     ]
    }
   ],
   "source": [
    "#print all integers that aren't divisible by either 2 or 3 and Lie between 1 and 50\n",
    "for i in range(0,51):\n",
    "    if(i%2!=0) & (i%3!=0):\n",
    "        print(i)"
   ]
  },
  {
   "cell_type": "code",
   "execution_count": 20,
   "metadata": {},
   "outputs": [
    {
     "name": "stdout",
     "output_type": "stream",
     "text": [
      "Enter a number: 9\n",
      "1 0 0 0 0 0 0 0 0 \n",
      "0 1 0 0 0 0 0 0 0 \n",
      "0 0 1 0 0 0 0 0 0 \n",
      "0 0 0 1 0 0 0 0 0 \n",
      "0 0 0 0 1 0 0 0 0 \n",
      "0 0 0 0 0 1 0 0 0 \n",
      "0 0 0 0 0 0 1 0 0 \n",
      "0 0 0 0 0 0 0 1 0 \n",
      "0 0 0 0 0 0 0 0 1 \n"
     ]
    }
   ],
   "source": [
    "#Program to print an identity Matrix\n",
    "n=int(input(\"Enter a number: \"))\n",
    "for i in range(0,n):\n",
    "    for j in range(0,n):\n",
    "        if (i==j):\n",
    "            print(\"1\",sep=\" \",end=\" \")\n",
    "        else:\n",
    "            print(\"0\",sep=\" \",end=\" \")\n",
    "    print()"
   ]
  },
  {
   "cell_type": "code",
   "execution_count": 26,
   "metadata": {},
   "outputs": [
    {
     "name": "stdout",
     "output_type": "stream",
     "text": [
      "Enter number of rows: 6\n",
      "******\n",
      " *****\n",
      "  ****\n",
      "   ***\n",
      "    **\n",
      "     *\n",
      "*\n",
      "**\n",
      "***\n",
      "****\n",
      "*****\n",
      "    *\n",
      "   ***\n",
      "  *****\n",
      " *******\n",
      "*********\n"
     ]
    }
   ],
   "source": [
    "#program to print an inverted start pattern\n",
    "n=int(input(\"Enter number of rows: \"))\n",
    "for i in range(n,0,-1):\n",
    "    print((n-i)*' '+i*'*')\n",
    "    \n",
    "#second example\n",
    "for i in range(1,n):\n",
    "    s=\"\"\n",
    "    for j in range(0,i):\n",
    "        s=s+\"*\"\n",
    "    print(s)\n",
    "    \n",
    "#third example\n",
    "for i in range(1,n):\n",
    "    s=\"\"\n",
    "    for j in range(0,n-1-i):\n",
    "        s=s+\" \"\n",
    "    for j in range(0,2*i-1):\n",
    "        s=s+\"*\"\n",
    "    print(s)"
   ]
  },
  {
   "cell_type": "code",
   "execution_count": 29,
   "metadata": {},
   "outputs": [
    {
     "name": "stdout",
     "output_type": "stream",
     "text": [
      "Enter the hight in centimeters:181\n",
      "The length in inches 71.31\n",
      "The length in feet 5.94\n"
     ]
    }
   ],
   "source": [
    "#Read Height in Centimeters and then convert the height to feet and inches\n",
    "cm=int(input(\"Enter the hight in centimeters:\"))\n",
    "inches=0.394*cm\n",
    "feet=0.0328*cm\n",
    "print(\"The length in inches\",round(inches,2))\n",
    "print(\"The length in feet\",round(feet,2))"
   ]
  },
  {
   "cell_type": "code",
   "execution_count": 30,
   "metadata": {},
   "outputs": [
    {
     "name": "stdout",
     "output_type": "stream",
     "text": [
      "Enter the number to print the tables for:7\n",
      "7x1=7\n",
      "7x2=14\n",
      "7x3=21\n",
      "7x4=28\n",
      "7x5=35\n",
      "7x6=42\n",
      "7x7=49\n",
      "7x8=56\n",
      "7x9=63\n",
      "7x10=70\n"
     ]
    }
   ],
   "source": [
    "#Print table of a given number\n",
    "n=int(input(\"Enter the number to print the tables for:\"))\n",
    "for i in range(1,11):\n",
    "    print(\"{n}x{i}={result}\".format(n=n,i=i,result=n*i ))"
   ]
  }
 ],
 "metadata": {
  "kernelspec": {
   "display_name": "Python 3",
   "language": "python",
   "name": "python3"
  },
  "language_info": {
   "codemirror_mode": {
    "name": "ipython",
    "version": 3
   },
   "file_extension": ".py",
   "mimetype": "text/x-python",
   "name": "python",
   "nbconvert_exporter": "python",
   "pygments_lexer": "ipython3",
   "version": "3.6.4"
  }
 },
 "nbformat": 4,
 "nbformat_minor": 2
}
